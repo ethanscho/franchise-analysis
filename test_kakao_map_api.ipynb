{
 "cells": [
  {
   "cell_type": "code",
   "execution_count": 1,
   "metadata": {},
   "outputs": [],
   "source": [
    "import requests\n",
    "\n",
    "def getLatLng(address):\n",
    "    result = \"\"\n",
    " \n",
    "    url = 'https://dapi.kakao.com/v2/local/search/address.json?query=' + address\n",
    "    rest_api_key = '8b50343fe07230c95dea834f1b4e9559'\n",
    "    header = {'Authorization': 'KakaoAK ' + rest_api_key}\n",
    " \n",
    "    r = requests.get(url, headers=header)\n",
    " \n",
    "    if r.status_code == 200:\n",
    "        result_address = r.json()[\"documents\"][0][\"address\"]\n",
    "        \n",
    "        result = result_address[\"y\"], result_address[\"x\"]\n",
    "    else:\n",
    "        result = \"ERROR[\" + str(r.status_code) + \"]\"\n",
    "    \n",
    "    return result"
   ]
  },
  {
   "cell_type": "code",
   "execution_count": 2,
   "metadata": {},
   "outputs": [
    {
     "data": {
      "text/plain": [
       "('37.5498849819149', '126.874971203942')"
      ]
     },
     "execution_count": 2,
     "metadata": {},
     "output_type": "execute_result"
    }
   ],
   "source": [
    "getLatLng('서울 강서구 양천로 711')"
   ]
  },
  {
   "cell_type": "code",
   "execution_count": null,
   "metadata": {},
   "outputs": [],
   "source": []
  }
 ],
 "metadata": {
  "kernelspec": {
   "display_name": "Python 3",
   "language": "python",
   "name": "python3"
  },
  "language_info": {
   "codemirror_mode": {
    "name": "ipython",
    "version": 3
   },
   "file_extension": ".py",
   "mimetype": "text/x-python",
   "name": "python",
   "nbconvert_exporter": "python",
   "pygments_lexer": "ipython3",
   "version": "3.7.6"
  }
 },
 "nbformat": 4,
 "nbformat_minor": 4
}
